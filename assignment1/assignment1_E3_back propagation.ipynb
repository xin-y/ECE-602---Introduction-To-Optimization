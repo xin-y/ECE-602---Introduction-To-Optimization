{
 "cells": [
  {
   "cell_type": "markdown",
   "metadata": {},
   "source": [
    "**(d) &(e)**\n",
    "\n",
    "The followint codes implements computing the value of cost by means of back-propagation using Gradient Descent Method and monitored the values of cost and gradient.\n",
    "Because we use Relu activation function, the cost finally converged monotonously.Details will be discussed in the next question."
   ]
  },
  {
   "cell_type": "code",
   "execution_count": 1,
   "metadata": {},
   "outputs": [],
   "source": [
    "import numpy as np\n",
    "import matplotlib.pyplot as plt"
   ]
  },
  {
   "cell_type": "code",
   "execution_count": 2,
   "metadata": {},
   "outputs": [],
   "source": [
    "def Relu(x):\n",
    "    return (np.abs(x)+x)/2\n",
    "\n",
    "def Relu_prime(x):\n",
    "    return np.where(x>0,1,0)"
   ]
  },
  {
   "cell_type": "code",
   "execution_count": 3,
   "metadata": {},
   "outputs": [],
   "source": [
    "def mse(y,y_ypred):\n",
    "    return ((y-y_ypred)**2).mean()"
   ]
  },
  {
   "cell_type": "markdown",
   "metadata": {},
   "source": [
    "For N=5000, draw samples xi and set yi from 1 to N:"
   ]
  },
  {
   "cell_type": "code",
   "execution_count": 4,
   "metadata": {},
   "outputs": [],
   "source": [
    "# initialize dataset\n",
    "N = 5000\n",
    "x_size = 2*N\n",
    "x=np.empty(x_size).reshape(N,2)\n",
    "y=[]\n",
    "np.random.seed(1)\n",
    "for i in range(0,N):\n",
    "    for j in range(0,2):\n",
    "        x[i][j]= np.random.uniform(-4*np.pi,4*np.pi)\n",
    "    y.append(np.sin(np.linalg.norm(x[i]))/np.linalg.norm(x[i]))\n",
    "# print(x)\n",
    "# print(y)\n",
    "\n"
   ]
  },
  {
   "cell_type": "markdown",
   "metadata": {},
   "source": [
    "Replace x,y as required in question (g):"
   ]
  },
  {
   "cell_type": "code",
   "execution_count": 5,
   "metadata": {},
   "outputs": [],
   "source": [
    "# ## initialize dataset replaced by (g)\n",
    "# N = 5000\n",
    "# x_size = 2*N\n",
    "# x=np.empty(x_size).reshape(N,2)\n",
    "# y=[]\n",
    "# np.random.seed(1)\n",
    "# for i in range(0,N):\n",
    "#     for j in range(0,2):\n",
    "#         x[i][j]= np.random.uniform(-4*np.pi,4*np.pi)\n",
    "#     y.append(np.abs(max(x[i])))\n",
    "#print(x)\n",
    "#print(y)"
   ]
  },
  {
   "cell_type": "markdown",
   "metadata": {},
   "source": [
    "Set parameters w and d:"
   ]
  },
  {
   "cell_type": "code",
   "execution_count": 6,
   "metadata": {},
   "outputs": [
    {
     "name": "stdout",
     "output_type": "stream",
     "text": [
      "{'W1': array([[ 0.90404964,  0.34139011],\n",
      "       [-0.15699923,  0.72902662]]), 'b1': 1, 'W2': array([[ 0.42090982, -0.36478254],\n",
      "       [-0.89035921, -0.06078315],\n",
      "       [ 0.8689528 , -0.12973065],\n",
      "       [ 0.13442498,  0.29967095],\n",
      "       [ 0.33791004,  0.63480597]]), 'b2': 1, 'W3': array([[-0.02305311,  0.4630617 ,  0.85779966,  0.40371917,  0.37152975],\n",
      "       [ 0.22596616, -0.57391845, -0.46414543, -0.01330366,  0.62214031],\n",
      "       [-0.81406636, -0.13838588,  0.95006721, -0.98736383,  0.90012469],\n",
      "       [-0.8855041 ,  0.83146082,  0.2283929 , -0.10707711,  0.45494442],\n",
      "       [ 0.84327628, -0.24504108,  0.54423135,  0.35582749, -0.0691627 ],\n",
      "       [-0.5409577 , -0.64925984, -0.26451308, -0.33238182,  0.28736295],\n",
      "       [-0.80486205,  0.85098961,  0.57743336,  0.54793702, -0.86075792],\n",
      "       [ 0.58656377,  0.76182429, -0.70411383, -0.00401006,  0.50045496],\n",
      "       [ 0.56826674, -0.72991791,  0.76036238, -0.62700698,  0.06752464]]), 'b3': 1, 'W4': array([[ 5.38910261e-01,  5.24074979e-01, -5.45486627e-02,\n",
      "        -2.89218600e-01,  1.70435263e-01, -9.40532515e-01,\n",
      "        -3.63526746e-01, -7.50496773e-02,  4.33494211e-01],\n",
      "       [ 9.70954843e-01,  7.72567523e-04,  9.75435385e-02,\n",
      "         5.22211605e-02,  2.90969286e-01, -8.09603740e-01,\n",
      "        -5.79586160e-01, -1.07346223e-01,  4.94347492e-01],\n",
      "       [-4.61666382e-01,  7.96133769e-01,  8.18504668e-02,\n",
      "         4.71518280e-01, -2.44695702e-01, -7.71266922e-02,\n",
      "         8.23278351e-02, -5.01428683e-02, -8.77028863e-01],\n",
      "       [-3.75818022e-01,  1.58999938e-01,  9.02513804e-01,\n",
      "        -3.29686825e-01, -5.70998311e-01,  7.18939045e-01,\n",
      "         7.81851494e-03,  7.19299282e-01,  2.75579350e-01],\n",
      "       [-7.88751078e-01, -7.05916839e-02,  8.50099950e-01,\n",
      "         9.83392289e-02, -4.70853624e-01, -4.73485429e-01,\n",
      "         5.65995308e-01,  8.25293930e-01, -3.98384413e-01]]), 'b4': 1, 'W5': array([[ 0.72985965, -0.67311433,  0.89555754, -0.43116122,  0.9816232 ],\n",
      "       [-0.92502259,  0.59327102, -0.42001131, -0.11741522,  0.4543272 ],\n",
      "       [-0.07374648,  0.69462518, -0.48819375, -0.85544334,  0.83690855]]), 'b5': 1, 'W6': array([[ 0.99590183, -0.84652467,  0.06213327]]), 'b6': 1}\n"
     ]
    }
   ],
   "source": [
    "## initialize parameters\n",
    "\n",
    "layers_size = 6\n",
    "parameters = {}\n",
    "weight_size = []\n",
    "d=2\n",
    "M=[2,5,9,5,3,1]\n",
    "weight={}\n",
    "\n",
    "np.random.seed()\n",
    "for i in range(0,layers_size):\n",
    "    if i==0:\n",
    "        weight_size.append(d*M[0])\n",
    "        weighti=(np.empty(weight_size[i]).reshape(d,M[0]))\n",
    "        for j in range(0,d):\n",
    "            for k in range(0,M[0]):\n",
    "                weighti[j][k]=np.random.uniform(-1,1)\n",
    "        weight[i]=weighti\n",
    "    else:\n",
    "        weight_size.append(M[i]*M[i-1])\n",
    "        weighti=np.empty(weight_size[i]).reshape(M[i],M[i-1])\n",
    "        for j in range(0,M[i]):\n",
    "            for k in range(0,M[i-1]):\n",
    "                weighti[j][k]=np.random.uniform(-1,1)\n",
    "        weight[i]=weighti\n",
    "\n",
    "\n",
    "for l in range(1,layers_size+1):\n",
    "    \n",
    "    parameters[\"W\" + str(l)] = weight[l-1]\n",
    "    parameters[\"b\" + str(l)] = 1\n",
    "\n",
    "print(parameters)"
   ]
  },
  {
   "cell_type": "code",
   "execution_count": 7,
   "metadata": {},
   "outputs": [],
   "source": [
    "## forward propagation\n",
    "def forward(x):\n",
    "    store = {}\n",
    "    A=x.T\n",
    "    #print(x)\n",
    "    for l in range(layers_size-1):\n",
    "        Z=parameters[\"W\"+str(l+1)].dot(A)+parameters[\"b\"+str(l+1)]\n",
    "        A=Relu(Z)\n",
    "        #print(parameters[\"W\"+str(l+1)])\n",
    "        store[\"A\"+str(l+1)]=A\n",
    "        store[\"W\"+str(l+1)]=parameters[\"W\"+str(l+1)]\n",
    "        store[\"Z\"+str(l+1)]=Z\n",
    "    Z=parameters[\"W\"+str(layers_size)].dot(A)+parameters[\"b\"+str(layers_size)] \n",
    "    #print(parameters[\"W\"+str(layers_size)])\n",
    "    #print(parameters[\"W6\"].shape)\n",
    "    #print(A.shape)\n",
    "    #print(Z.shape)\n",
    "    A=Relu(Z)\n",
    "    #print(A)\n",
    "    store[\"A\"+str(layers_size)]=A    \n",
    "    store[\"W\"+str(layers_size)]=parameters[\"W\"+str(layers_size)]\n",
    "    store[\"Z\"+str(layers_size)]=Z    \n",
    "    #print(y)\n",
    "    \n",
    "    #print(cost)\n",
    "    return A,store\n",
    "A,store=forward(x)\n",
    "#print(A)"
   ]
  },
  {
   "cell_type": "code",
   "execution_count": 8,
   "metadata": {},
   "outputs": [
    {
     "data": {
      "text/plain": [
       "{'dW6': array([[ 4.09015233,  6.16104227, 40.46964327]]),\n",
       " 'db6': array([[6.22398878]]),\n",
       " 'dW5': array([[  9.14796642,  14.48149937,   4.17565273,   6.47980223,\n",
       "           3.21499109],\n",
       "        [-32.29687989, -52.27144178,  -1.88326398,  -6.04495336,\n",
       "          -1.75909334],\n",
       "        [  2.47391999,   3.99471836,   0.2434726 ,   0.57762831,\n",
       "           0.18610571]]),\n",
       " 'db5': array([[ 3.04275564],\n",
       "        [-4.7812441 ],\n",
       "        [ 0.37935886]]),\n",
       " 'dW4': array([[ 3.83522493e+01,  1.17435772e+01,  2.33664680e+01,\n",
       "          1.43920481e+01,  2.73983678e+01,  1.70912574e+00,\n",
       "          3.78456740e+00,  1.29275184e+01,  1.76519655e+01],\n",
       "        [-2.53263882e+01, -8.40208559e+00, -1.50975111e+01,\n",
       "         -1.02418131e+01, -1.76743891e+01, -1.32427268e+00,\n",
       "         -2.79712744e+00, -9.65518292e+00, -1.08124374e+01],\n",
       "        [ 8.11721974e+00,  5.73899301e+00,  5.04070843e+00,\n",
       "          5.97789202e+00,  3.38029602e+00,  1.50368015e+00,\n",
       "          5.32452584e-01,  6.10262379e+00,  2.88466222e-01],\n",
       "        [-3.66657510e+00, -2.49061993e+00, -1.60819025e+00,\n",
       "         -2.82826614e+00, -1.76484988e+00, -5.99885441e-01,\n",
       "         -8.81617688e-01, -3.47301703e+00, -2.22549715e-02],\n",
       "        [ 8.36968502e+00,  5.07496579e+00,  4.23834575e+00,\n",
       "          5.58934094e+00,  4.40996568e+00,  1.17987390e+00,\n",
       "          1.50033127e+00,  6.51264872e+00,  1.03562379e+00]]),\n",
       " 'db4': array([[ 6.61556698],\n",
       "        [-4.62118374],\n",
       "        [ 1.81711765],\n",
       "        [-1.1064636 ],\n",
       "        [ 2.1432867 ]]),\n",
       " 'dW3': array([[ -1.45304927,  -2.12997719,  -2.5888483 ,  -6.65488514,\n",
       "         -10.76051394],\n",
       "        [  4.94892761,   2.46638021,  10.66411837,  10.3574238 ,\n",
       "          17.30244703],\n",
       "        [ -0.51604217,   0.17836547,  -1.1163503 ,   0.58884923,\n",
       "           1.0032126 ],\n",
       "        [ -2.73447385,  -0.16718798,  -5.4829202 ,  -1.10011043,\n",
       "          -1.80706423],\n",
       "        [ -0.45465271,  -0.67544547,  -0.95296182,  -2.45956998,\n",
       "          -4.07591019],\n",
       "        [ -0.11392725,  -0.96736694,  -1.09358014,  -5.0668186 ,\n",
       "          -8.7769529 ],\n",
       "        [  0.70398151,   0.96686445,   0.82650731,   1.22897074,\n",
       "           1.48121092],\n",
       "        [  0.50355769,   0.63826528,   0.71555411,   1.86169075,\n",
       "           2.97436124],\n",
       "        [  0.4867697 ,  -0.80479024,   1.40737448,  -0.57835129,\n",
       "          -0.3967735 ]]),\n",
       " 'db3': array([[-3.03535667],\n",
       "        [ 4.58292581],\n",
       "        [ 0.16050423],\n",
       "        [-0.72230877],\n",
       "        [-1.03912298],\n",
       "        [-1.78217612],\n",
       "        [ 0.99963705],\n",
       "        [ 0.87809757],\n",
       "        [-0.63477779]]),\n",
       " 'dW2': array([[  9.05204658,   2.75624137],\n",
       "        [ -0.04317602,   1.7988325 ],\n",
       "        [ -6.1825627 , -11.92846834],\n",
       "        [ -0.18444547,  -4.08154914],\n",
       "        [  1.9442822 ,   5.51645534]]),\n",
       " 'db2': array([[ 0.87220895],\n",
       "        [ 0.19544384],\n",
       "        [-4.84424515],\n",
       "        [-0.20269329],\n",
       "        [ 0.63523788]]),\n",
       " 'dW1': array([[ 0.70021955, -3.34114765],\n",
       "        [-5.65499584,  1.63450067]]),\n",
       " 'db1': array([[-0.38401774],\n",
       "        [ 0.63205306]])}"
      ]
     },
     "execution_count": 8,
     "metadata": {},
     "output_type": "execute_result"
    }
   ],
   "source": [
    "def backward(X, Y, store):\n",
    "\n",
    "    derivatives = {}\n",
    "\n",
    "    store[\"A0\"] = X.T\n",
    "\n",
    "    A = store[\"A\" + str(layers_size)]\n",
    "    cost1=mse(A,y)\n",
    "    dA = 2*cost1\n",
    "    \n",
    "    dZ = dA * Relu_prime(store[\"Z\" + str(layers_size)])\n",
    "    dW = dZ.dot(store[\"A\" + str(layers_size - 1)].T) /N\n",
    "    db = np.sum(dZ, axis=1,keepdims=True) /N\n",
    "    dAPrev = store[\"W\" + str(layers_size)].T.dot(dZ)\n",
    "    \n",
    "    derivatives[\"dW\" + str(layers_size)] = dW\n",
    "    derivatives[\"db\" + str(layers_size)] = db\n",
    "\n",
    "    for l in range(layers_size - 1, 0, -1):\n",
    "        dZ = dAPrev * Relu_prime(store[\"Z\" + str(l)])\n",
    "        dW = dZ.dot(store[\"A\" + str(l - 1)].T)/N\n",
    "        db =np.sum(dZ, axis=1, keepdims=True)/N\n",
    "        if l > 1:\n",
    "            dAPrev = store[\"W\" + str(l)].T.dot(dZ)\n",
    "\n",
    "        derivatives[\"dW\" + str(l)] = dW\n",
    "        derivatives[\"db\" + str(l)] = db\n",
    "\n",
    "    return derivatives\n",
    "backward(x,y,store)"
   ]
  },
  {
   "cell_type": "code",
   "execution_count": 9,
   "metadata": {},
   "outputs": [],
   "source": [
    "\n",
    "def train(x,y,learning_rate=0.0001,n_iterations=5000):\n",
    "    costs=[]\n",
    "    for loop in range(n_iterations):\n",
    "        A,store=forward(x)\n",
    "\n",
    "        cost=mse(A,y)\n",
    "        #print(cost)\n",
    "        derivatives=backward(x,y,store)\n",
    "        ## update parameters\n",
    "        for l in range(1,layers_size+1):\n",
    "            parameters[\"W\"+str(l)]=parameters[\"W\"+str(l)]-learning_rate*derivatives[\"dW\"+str(l)]\n",
    "            parameters[\"b\"+str(l)]=parameters[\"b\"+str(l)]-learning_rate*derivatives[\"db\"+str(l)]\n",
    "            \n",
    "        #print(loop,cost)\n",
    "        costs.append(cost)\n",
    "        \n",
    "\n",
    "    return A,costs\n"
   ]
  },
  {
   "cell_type": "code",
   "execution_count": 10,
   "metadata": {
    "scrolled": false
   },
   "outputs": [
    {
     "data": {
      "image/png": "[encoded data removed]",
      "text/plain": [
       "<Figure size 432x288 with 1 Axes>"
      ]
     },
     "metadata": {
      "needs_background": "light"
     },
     "output_type": "display_data"
    }
   ],
   "source": [
    "A,costs=train(x,y,learning_rate=0.0001,n_iterations=5000)\n",
    "plt.plot(np.arange(len(costs)), costs)\n",
    "plt.xlabel(\"iteration\")\n",
    "plt.ylabel(\"cost\")\n",
    "plt.show()"
   ]
  },
  {
   "cell_type": "markdown",
   "metadata": {},
   "source": [
    "(f) The values of the resulting approxiamatiion and label values look not similar. It is because when we use Relu function as our activation function, the training is very \"fragile\", after the parameters are updated, ReLU neurons will no longer be activated, which result in the gradients finally becomes zero."
   ]
  },
  {
   "cell_type": "code",
   "execution_count": 11,
   "metadata": {
    "scrolled": true
   },
   "outputs": [
    {
     "name": "stdout",
     "output_type": "stream",
     "text": [
      "0.02032259365610576\n",
      "[[0. 0. 0. ... 0. 0. 0.]]\n"
     ]
    },
    {
     "data": {
      "image/png": "[encoded data removed]",
      "text/plain": [
       "<Figure size 432x288 with 1 Axes>"
      ]
     },
     "metadata": {
      "needs_background": "light"
     },
     "output_type": "display_data"
    }
   ],
   "source": [
    "c=mse(A,y)\n",
    "print(c)\n",
    "print(A)\n",
    "plt.scatter(range(N),y,color=\"red\")\n",
    "plt.scatter(range(N),A,color=\"blue\")\n",
    "plt.show()"
   ]
  },
  {
   "cell_type": "markdown",
   "metadata": {},
   "source": [
    "(g) To change the network design to improve the quality of , we can work on the layers , the weight matrix, or the activation function. Here I would like to change the activation function, as discussed in (f).\n",
    "If f0(x) is replaced, the quality of approxiamation will change(the cost will become larger), it is because the range of the value of f0 will become wider, while the predicted value still turns to be zeros, thus the cost certainly will become higher."
   ]
  }
 ],
 "metadata": {
  "kernelspec": {
   "display_name": "Python 3",
   "language": "python",
   "name": "python3"
  },
  "language_info": {
   "codemirror_mode": {
    "name": "ipython",
    "version": 3
   },
   "file_extension": ".py",
   "mimetype": "text/x-python",
   "name": "python",
   "nbconvert_exporter": "python",
   "pygments_lexer": "ipython3",
   "version": "3.8.3"
  }
 },
 "nbformat": 4,
 "nbformat_minor": 4
}
